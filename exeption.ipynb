{
 "cells": [
  {
   "cell_type": "markdown",
   "id": "dbdd84d1-92a4-498b-af5f-b59c66c9708a",
   "metadata": {},
   "source": [
    "Q1. What is an Exception in Python? Write the difference between Exceptions and Syntax errors.\n",
    "\n",
    "Ans:\n",
    "\n",
    "In Python, an exception is an event that occurs during the execution of a program that disrupts the normal flow of the program's instructions. Exceptions are raised when an error or unexpected behavior occurs. They are used to handle runtime errors gracefully.\n",
    "\n",
    "The main difference between exceptions and syntax errors is:\n",
    "\n",
    "Exceptions: These occur during the execution of the program (runtime). Examples include division by zero, trying to access a non-existent file, or attempting to divide a string by an integer. Exceptions can be caught and handled using try and except blocks.\n",
    "\n",
    "Syntax Errors: These occur during the parsing of the program (before execution) and are often due to incorrect syntax. Examples include missing colons, mismatched parentheses, or using undefined variables. Syntax errors prevent the program from running at all and need to be fixed in the code."
   ]
  },
  {
   "cell_type": "markdown",
   "id": "0ae83baa-ee8f-4367-8f39-8e3c23d1dc0e",
   "metadata": {},
   "source": [
    "Q2. What happens when an exception is not handled? Explain with an example.\n",
    "\n",
    "Ans:\n",
    "\n",
    "When an exception is not handled, it propagates up the call stack, potentially causing the program to terminate abruptly. The program displays an error message and a traceback, which can help you identify the source of the exception.\n",
    "\n",
    "Example:\n",
    "    def divide(a, b):\n",
    "    return a / b\n",
    "\n",
    "result = divide(10, 0)  # This will raise a 'ZeroDivisionError' since you can't divide by zero\n",
    "print(result)  # This line will not be reached because the exception is not handled\n"
   ]
  },
  {
   "cell_type": "markdown",
   "id": "cd0d3f27-055b-47c2-8bb0-a020ea3cbf67",
   "metadata": {},
   "source": [
    "Q3. Which Python statements are used to catch and handle exceptions? Explain with an example.\n",
    "\n",
    "Ans:\n",
    "\n",
    "Python uses try and except statements to catch and handle exceptions.\n",
    "\n",
    "Example:\n",
    "    try:\n",
    "    # Code that may raise an exception\n",
    "    result = 10 / 0  # This will raise a 'ZeroDivisionError'\n",
    "except ZeroDivisionError:\n",
    "    # Code to handle the exception\n",
    "    print(\"Error: Division by zero\")\n",
    "\n",
    "    In this example, the code within the try block attempts to divide by zero, which would raise a ZeroDivisionError. The except block catches the exception and prints an error message instead of letting the program crash."
   ]
  },
  {
   "cell_type": "markdown",
   "id": "4786f868-0bde-4391-a00e-3aa87243caf1",
   "metadata": {},
   "source": [
    "Q4. Explain with an example: try, except, else, finally, and raise.\n",
    "\n",
    "Ans:\n",
    "\n",
    "Here's an example that demonstrates the use of try, except, else, finally, and raise:\n",
    "try:\n",
    "    # Code that may raise an exception\n",
    "    num = int(input(\"Enter a number: \"))\n",
    "    result = 10 / num\n",
    "except ValueError:\n",
    "    # Handle a ValueError (e.g., if the user enters a non-integer)\n",
    "    print(\"Invalid input! Please enter an integer.\")\n",
    "except ZeroDivisionError:\n",
    "    # Handle a ZeroDivisionError (e.g., if the user enters 0)\n",
    "    print(\"Error: Division by zero\")\n",
    "else:\n",
    "    # Code to execute if no exception is raised\n",
    "    print(\"Division result:\", result)\n",
    "finally:\n",
    "    # Code that always runs, whether there was an exception or not\n",
    "    print(\"Execution finished.\")\n",
    "\n",
    "    In this example:\n",
    "\n",
    "We use try to wrap code that may raise exceptions.\n",
    "except blocks catch specific exceptions and handle them.\n",
    "else contains code that runs if no exceptions are raised.\n",
    "finally contains code that always runs, whether an exception occurred or not.\n",
    "raise can be used to raise a custom exception if needed."
   ]
  },
  {
   "cell_type": "code",
   "execution_count": null,
   "id": "0ebe2e07-a2dd-46e8-b55b-977be1442d7d",
   "metadata": {},
   "outputs": [],
   "source": []
  }
 ],
 "metadata": {
  "kernelspec": {
   "display_name": "Python 3 (ipykernel)",
   "language": "python",
   "name": "python3"
  },
  "language_info": {
   "codemirror_mode": {
    "name": "ipython",
    "version": 3
   },
   "file_extension": ".py",
   "mimetype": "text/x-python",
   "name": "python",
   "nbconvert_exporter": "python",
   "pygments_lexer": "ipython3",
   "version": "3.10.8"
  }
 },
 "nbformat": 4,
 "nbformat_minor": 5
}
